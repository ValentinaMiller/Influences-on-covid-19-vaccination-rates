{
 "cells": [
  {
   "cell_type": "code",
   "execution_count": 1,
   "id": "e4ca3d69",
   "metadata": {},
   "outputs": [],
   "source": [
    "import pandas as pd\n",
    "import numpy as np"
   ]
  },
  {
   "cell_type": "code",
   "execution_count": 2,
   "id": "77623551",
   "metadata": {},
   "outputs": [],
   "source": [
    "datasets = {\n",
    "    'rates': pd.read_csv('COVID-19_vaccination_rates.csv'),\n",
    "    'gdp': pd.read_csv('gdp.csv'),\n",
    "    'edu': pd.read_csv('higher_education_rate.csv'),\n",
    "    'regime': pd.read_csv('political_regime.csv'),\n",
    "    'gov_trst': pd.read_csv('trust_in_government.csv'),\n",
    "    'unemploy': pd.read_csv('unemployment_rate.csv')\n",
    "}"
   ]
  },
  {
   "cell_type": "code",
   "execution_count": 3,
   "id": "9614f178",
   "metadata": {},
   "outputs": [],
   "source": [
    "# Change gov_trst from Country code to country name\n",
    "codes = pd.read_csv('country_codes.csv')\n",
    "\n",
    "lookup_table = codes[['Alpha-3 code','Country']]\n",
    "\n",
    "# Lookup table to dict\n",
    "c_map = {}\n",
    "for i, t in lookup_table.iterrows():\n",
    "    key = t[0][2:5]\n",
    "    val = t[1]\n",
    "    \n",
    "    c_map[key] = val"
   ]
  },
  {
   "cell_type": "code",
   "execution_count": 4,
   "id": "529f9b3b",
   "metadata": {},
   "outputs": [],
   "source": [
    "# enhance government trust df\n",
    "datasets['gov_trst'] = datasets['gov_trst'].assign(country=datasets['gov_trst']['LOCATION'].map(c_map))"
   ]
  },
  {
   "cell_type": "code",
   "execution_count": 5,
   "id": "c57ff018",
   "metadata": {},
   "outputs": [
    {
     "data": {
      "text/plain": [
       "{'Australia',\n",
       " 'Austria',\n",
       " 'Belgium',\n",
       " 'Brazil',\n",
       " 'Canada',\n",
       " 'Chile',\n",
       " 'Colombia',\n",
       " 'Costa Rica',\n",
       " 'Denmark',\n",
       " 'Estonia',\n",
       " 'Finland',\n",
       " 'France',\n",
       " 'Greece',\n",
       " 'Hungary',\n",
       " 'Iceland',\n",
       " 'Ireland',\n",
       " 'Israel',\n",
       " 'Italy',\n",
       " 'Japan',\n",
       " 'Latvia',\n",
       " 'Lithuania',\n",
       " 'Mexico',\n",
       " 'Netherlands',\n",
       " 'New Zealand',\n",
       " 'Norway',\n",
       " 'Poland',\n",
       " 'Portugal',\n",
       " 'Slovenia',\n",
       " 'South Africa',\n",
       " 'Spain',\n",
       " 'Sweden',\n",
       " 'Switzerland',\n",
       " 'Turkey'}"
      ]
     },
     "execution_count": 5,
     "metadata": {},
     "output_type": "execute_result"
    }
   ],
   "source": [
    "names = set(datasets['rates'].location.unique()) \n",
    "names &= set(datasets['gdp']['Country Name'].unique()) \n",
    "names &= set(datasets['edu']['Country Name'].unique())\n",
    "names &= set(datasets['regime']['Country'].unique())\n",
    "names &= set(datasets['gov_trst']['country'].unique())\n",
    "names &= set(datasets['unemploy']['Country Name'].unique())\n",
    "names"
   ]
  },
  {
   "cell_type": "code",
   "execution_count": null,
   "id": "f941a15d",
   "metadata": {},
   "outputs": [],
   "source": []
  }
 ],
 "metadata": {
  "kernelspec": {
   "display_name": "Python 3 (ipykernel)",
   "language": "python",
   "name": "python3"
  },
  "language_info": {
   "codemirror_mode": {
    "name": "ipython",
    "version": 3
   },
   "file_extension": ".py",
   "mimetype": "text/x-python",
   "name": "python",
   "nbconvert_exporter": "python",
   "pygments_lexer": "ipython3",
   "version": "3.8.10"
  }
 },
 "nbformat": 4,
 "nbformat_minor": 5
}
