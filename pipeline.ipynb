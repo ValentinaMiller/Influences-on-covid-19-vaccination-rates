{
 "cells": [
  {
   "cell_type": "code",
   "execution_count": 1,
   "id": "2f23d58b",
   "metadata": {},
   "outputs": [],
   "source": [
    "# Imports\n",
    "\n",
    "import pandas as pd"
   ]
  },
  {
   "cell_type": "markdown",
   "id": "c9872810",
   "metadata": {},
   "source": [
    "## 1. Load and Clean Data \n",
    "\n",
    "In the first step we need to load and clean our data"
   ]
  },
  {
   "cell_type": "code",
   "execution_count": 2,
   "id": "cd533996",
   "metadata": {},
   "outputs": [
    {
     "data": {
      "text/html": [
       "<div>\n",
       "<style scoped>\n",
       "    .dataframe tbody tr th:only-of-type {\n",
       "        vertical-align: middle;\n",
       "    }\n",
       "\n",
       "    .dataframe tbody tr th {\n",
       "        vertical-align: top;\n",
       "    }\n",
       "\n",
       "    .dataframe thead th {\n",
       "        text-align: right;\n",
       "    }\n",
       "</style>\n",
       "<table border=\"1\" class=\"dataframe\">\n",
       "  <thead>\n",
       "    <tr style=\"text-align: right;\">\n",
       "      <th></th>\n",
       "      <th>Country Name</th>\n",
       "      <th>people_fully_vaccinated_per_hundred</th>\n",
       "    </tr>\n",
       "  </thead>\n",
       "  <tbody>\n",
       "    <tr>\n",
       "      <th>568</th>\n",
       "      <td>Africa</td>\n",
       "      <td>5.53</td>\n",
       "    </tr>\n",
       "    <tr>\n",
       "      <th>901</th>\n",
       "      <td>Albania</td>\n",
       "      <td>30.57</td>\n",
       "    </tr>\n",
       "    <tr>\n",
       "      <th>2713</th>\n",
       "      <td>Argentina</td>\n",
       "      <td>55.56</td>\n",
       "    </tr>\n",
       "    <tr>\n",
       "      <th>3219</th>\n",
       "      <td>Aruba</td>\n",
       "      <td>71.37</td>\n",
       "    </tr>\n",
       "    <tr>\n",
       "      <th>3578</th>\n",
       "      <td>Asia</td>\n",
       "      <td>41.54</td>\n",
       "    </tr>\n",
       "  </tbody>\n",
       "</table>\n",
       "</div>"
      ],
      "text/plain": [
       "     Country Name  people_fully_vaccinated_per_hundred\n",
       "568        Africa                                 5.53\n",
       "901       Albania                                30.57\n",
       "2713    Argentina                                55.56\n",
       "3219        Aruba                                71.37\n",
       "3578         Asia                                41.54"
      ]
     },
     "execution_count": 2,
     "metadata": {},
     "output_type": "execute_result"
    }
   ],
   "source": [
    "vax_rates = pd.read_csv('COVID-19_vaccination_rates.csv') \n",
    "vax_rates = vax_rates.loc[(vax_rates[\"date\"]==\"2021-10-25\")]\n",
    "vax_rates = vax_rates[[\"location\",\"people_fully_vaccinated_per_hundred\"]]\n",
    "vax_rates.rename(columns={'location': 'Country Name'}, inplace=True)\n",
    "vax_rates = vax_rates.loc[(vax_rates[\"people_fully_vaccinated_per_hundred\"]==vax_rates[\"people_fully_vaccinated_per_hundred\"])]\n",
    "vax_rates.head()"
   ]
  },
  {
   "cell_type": "code",
   "execution_count": 3,
   "id": "e5fe9332",
   "metadata": {},
   "outputs": [],
   "source": [
    "# Create c_map\n",
    "codes = pd.read_csv('country_codes.csv')\n",
    "\n",
    "lookup_table = codes[['Alpha-3 code','Country']]\n",
    "\n",
    "# Lookup table to dict\n",
    "c_map = {}\n",
    "for i, t in lookup_table.iterrows():\n",
    "    key = t[0][2:5]\n",
    "    val = t[1]\n",
    "    \n",
    "    c_map[key] = val"
   ]
  },
  {
   "cell_type": "code",
   "execution_count": 4,
   "id": "73ee5ecb",
   "metadata": {},
   "outputs": [
    {
     "data": {
      "text/html": [
       "<div>\n",
       "<style scoped>\n",
       "    .dataframe tbody tr th:only-of-type {\n",
       "        vertical-align: middle;\n",
       "    }\n",
       "\n",
       "    .dataframe tbody tr th {\n",
       "        vertical-align: top;\n",
       "    }\n",
       "\n",
       "    .dataframe thead th {\n",
       "        text-align: right;\n",
       "    }\n",
       "</style>\n",
       "<table border=\"1\" class=\"dataframe\">\n",
       "  <thead>\n",
       "    <tr style=\"text-align: right;\">\n",
       "      <th></th>\n",
       "      <th>Country Name</th>\n",
       "      <th>trust_in_government_2019</th>\n",
       "    </tr>\n",
       "  </thead>\n",
       "  <tbody>\n",
       "    <tr>\n",
       "      <th>12</th>\n",
       "      <td>Australia</td>\n",
       "      <td>46.870001</td>\n",
       "    </tr>\n",
       "    <tr>\n",
       "      <th>26</th>\n",
       "      <td>Austria</td>\n",
       "      <td>51.233826</td>\n",
       "    </tr>\n",
       "    <tr>\n",
       "      <th>40</th>\n",
       "      <td>Belgium</td>\n",
       "      <td>32.790115</td>\n",
       "    </tr>\n",
       "    <tr>\n",
       "      <th>55</th>\n",
       "      <td>Canada</td>\n",
       "      <td>54.928097</td>\n",
       "    </tr>\n",
       "    <tr>\n",
       "      <th>83</th>\n",
       "      <td>Denmark</td>\n",
       "      <td>63.299903</td>\n",
       "    </tr>\n",
       "  </tbody>\n",
       "</table>\n",
       "</div>"
      ],
      "text/plain": [
       "   Country Name  trust_in_government_2019\n",
       "12    Australia                 46.870001\n",
       "26      Austria                 51.233826\n",
       "40      Belgium                 32.790115\n",
       "55       Canada                 54.928097\n",
       "83      Denmark                 63.299903"
      ]
     },
     "execution_count": 4,
     "metadata": {},
     "output_type": "execute_result"
    }
   ],
   "source": [
    "trust_in_gov = pd.read_csv('trust_in_government.csv') \n",
    "    \n",
    "# enhance government trust df\n",
    "trust_in_gov = trust_in_gov.assign(country=trust_in_gov['LOCATION'].map(c_map))\n",
    " \n",
    "trust_in_gov = trust_in_gov.loc[(trust_in_gov[\"TIME\"]==2019)][[\"country\",\"Value\"]]\n",
    "trust_in_gov.rename(columns={\"Value\": \"trust_in_government_2019\"}, inplace=True)\n",
    "trust_in_gov.rename(columns={\"country\": \"Country Name\"}, inplace=True)\n",
    "trust_in_gov.head()"
   ]
  },
  {
   "cell_type": "code",
   "execution_count": 5,
   "id": "6fc82cf6",
   "metadata": {},
   "outputs": [
    {
     "data": {
      "text/html": [
       "<div>\n",
       "<style scoped>\n",
       "    .dataframe tbody tr th:only-of-type {\n",
       "        vertical-align: middle;\n",
       "    }\n",
       "\n",
       "    .dataframe tbody tr th {\n",
       "        vertical-align: top;\n",
       "    }\n",
       "\n",
       "    .dataframe thead th {\n",
       "        text-align: right;\n",
       "    }\n",
       "</style>\n",
       "<table border=\"1\" class=\"dataframe\">\n",
       "  <thead>\n",
       "    <tr style=\"text-align: right;\">\n",
       "      <th></th>\n",
       "      <th>gdp_per_capita_2020</th>\n",
       "    </tr>\n",
       "    <tr>\n",
       "      <th>Country Name</th>\n",
       "      <th></th>\n",
       "    </tr>\n",
       "  </thead>\n",
       "  <tbody>\n",
       "    <tr>\n",
       "      <th>Africa Eastern and Southern</th>\n",
       "      <td>3677.111255</td>\n",
       "    </tr>\n",
       "    <tr>\n",
       "      <th>Afghanistan</th>\n",
       "      <td>2077.874554</td>\n",
       "    </tr>\n",
       "    <tr>\n",
       "      <th>Africa Western and Central</th>\n",
       "      <td>4240.534782</td>\n",
       "    </tr>\n",
       "    <tr>\n",
       "      <th>Angola</th>\n",
       "      <td>6443.032680</td>\n",
       "    </tr>\n",
       "    <tr>\n",
       "      <th>Albania</th>\n",
       "      <td>13899.933981</td>\n",
       "    </tr>\n",
       "  </tbody>\n",
       "</table>\n",
       "</div>"
      ],
      "text/plain": [
       "                             gdp_per_capita_2020\n",
       "Country Name                                    \n",
       "Africa Eastern and Southern          3677.111255\n",
       "Afghanistan                          2077.874554\n",
       "Africa Western and Central           4240.534782\n",
       "Angola                               6443.032680\n",
       "Albania                             13899.933981"
      ]
     },
     "execution_count": 5,
     "metadata": {},
     "output_type": "execute_result"
    }
   ],
   "source": [
    "gdp = pd.read_csv('gdp_per_capita.csv') \n",
    "gdp = gdp[[\"Country Name\",\"2020\"]]\n",
    "gdp.rename(columns={'2020': 'gdp_per_capita_2020'}, inplace=True)\n",
    "gdp = gdp.loc[(gdp[\"gdp_per_capita_2020\"]==gdp[\"gdp_per_capita_2020\"])]\n",
    "gdp = gdp.set_index('Country Name')\n",
    "gdp.head()"
   ]
  },
  {
   "cell_type": "code",
   "execution_count": 6,
   "id": "baf4369a",
   "metadata": {},
   "outputs": [
    {
     "data": {
      "text/html": [
       "<div>\n",
       "<style scoped>\n",
       "    .dataframe tbody tr th:only-of-type {\n",
       "        vertical-align: middle;\n",
       "    }\n",
       "\n",
       "    .dataframe tbody tr th {\n",
       "        vertical-align: top;\n",
       "    }\n",
       "\n",
       "    .dataframe thead th {\n",
       "        text-align: right;\n",
       "    }\n",
       "</style>\n",
       "<table border=\"1\" class=\"dataframe\">\n",
       "  <thead>\n",
       "    <tr style=\"text-align: right;\">\n",
       "      <th></th>\n",
       "      <th>Country Name</th>\n",
       "      <th>secondary_education_2019</th>\n",
       "    </tr>\n",
       "  </thead>\n",
       "  <tbody>\n",
       "    <tr>\n",
       "      <th>9</th>\n",
       "      <td>Austria</td>\n",
       "      <td>77.636</td>\n",
       "    </tr>\n",
       "    <tr>\n",
       "      <th>33</th>\n",
       "      <td>Belgium</td>\n",
       "      <td>77.047</td>\n",
       "    </tr>\n",
       "    <tr>\n",
       "      <th>50</th>\n",
       "      <td>Canada</td>\n",
       "      <td>84.317</td>\n",
       "    </tr>\n",
       "    <tr>\n",
       "      <th>79</th>\n",
       "      <td>Czech Republic</td>\n",
       "      <td>80.510</td>\n",
       "    </tr>\n",
       "    <tr>\n",
       "      <th>104</th>\n",
       "      <td>Denmark</td>\n",
       "      <td>81.629</td>\n",
       "    </tr>\n",
       "  </tbody>\n",
       "</table>\n",
       "</div>"
      ],
      "text/plain": [
       "       Country Name  secondary_education_2019\n",
       "9           Austria                    77.636\n",
       "33          Belgium                    77.047\n",
       "50           Canada                    84.317\n",
       "79   Czech Republic                    80.510\n",
       "104         Denmark                    81.629"
      ]
     },
     "execution_count": 6,
     "metadata": {},
     "output_type": "execute_result"
    }
   ],
   "source": [
    "secondary_edu = pd.read_csv('secondary_education.csv')  \n",
    "secondary_edu = secondary_edu.loc[(secondary_edu[\"TIME\"]==2019)].loc[(secondary_edu[\"SUBJECT\"]==\"UPPSRY\")][[\"LOCATION\",\"Value\"]]\n",
    "secondary_edu.rename(columns={\"Value\": \"secondary_education_2019\"}, inplace=True)\n",
    "        \n",
    "# enhance government trust df\n",
    "secondary_edu = secondary_edu.assign(country=secondary_edu['LOCATION'].map(c_map))\n",
    "secondary_edu = secondary_edu[['country', 'secondary_education_2019']]\n",
    "secondary_edu.rename(columns={\"country\": \"Country Name\"}, inplace=True)\n",
    "\n",
    "secondary_edu = secondary_edu.dropna()\n",
    "secondary_edu.head()"
   ]
  },
  {
   "cell_type": "code",
   "execution_count": 7,
   "id": "1116b0f2",
   "metadata": {},
   "outputs": [
    {
     "data": {
      "text/html": [
       "<div>\n",
       "<style scoped>\n",
       "    .dataframe tbody tr th:only-of-type {\n",
       "        vertical-align: middle;\n",
       "    }\n",
       "\n",
       "    .dataframe tbody tr th {\n",
       "        vertical-align: top;\n",
       "    }\n",
       "\n",
       "    .dataframe thead th {\n",
       "        text-align: right;\n",
       "    }\n",
       "</style>\n",
       "<table border=\"1\" class=\"dataframe\">\n",
       "  <thead>\n",
       "    <tr style=\"text-align: right;\">\n",
       "      <th></th>\n",
       "      <th>Country Name</th>\n",
       "      <th>tertiary_education_2019</th>\n",
       "    </tr>\n",
       "  </thead>\n",
       "  <tbody>\n",
       "    <tr>\n",
       "      <th>0</th>\n",
       "      <td>Australia</td>\n",
       "      <td>69.343</td>\n",
       "    </tr>\n",
       "    <tr>\n",
       "      <th>1</th>\n",
       "      <td>Austria</td>\n",
       "      <td>37.418</td>\n",
       "    </tr>\n",
       "    <tr>\n",
       "      <th>2</th>\n",
       "      <td>Belgium</td>\n",
       "      <td>80.736</td>\n",
       "    </tr>\n",
       "    <tr>\n",
       "      <th>3</th>\n",
       "      <td>Switzerland</td>\n",
       "      <td>72.556</td>\n",
       "    </tr>\n",
       "    <tr>\n",
       "      <th>4</th>\n",
       "      <td>Chile</td>\n",
       "      <td>52.185</td>\n",
       "    </tr>\n",
       "  </tbody>\n",
       "</table>\n",
       "</div>"
      ],
      "text/plain": [
       "  Country Name  tertiary_education_2019\n",
       "0    Australia                   69.343\n",
       "1      Austria                   37.418\n",
       "2      Belgium                   80.736\n",
       "3  Switzerland                   72.556\n",
       "4        Chile                   52.185"
      ]
     },
     "execution_count": 7,
     "metadata": {},
     "output_type": "execute_result"
    }
   ],
   "source": [
    "tert_edu = pd.read_csv('tertiary_education.csv')[[\"LOCATION\",\"SUBJECT\", \"TIME\", \"Value\"]]\n",
    "tert_edu = tert_edu.loc[(tert_edu[\"TIME\"]==2019)].loc[(tert_edu[\"SUBJECT\"]==\"BACHR_MEN\")|(tert_edu[\"SUBJECT\"]==\"BACHR_WOMEN\")]\n",
    "tert_edu.rename(columns={\"Value\": \"tertiary_education_2019\"}, inplace=True)\n",
    "\n",
    "tert_edu = tert_edu.pivot(index=\"LOCATION\", columns=\"SUBJECT\", values=\"tertiary_education_2019\")\n",
    "tert_edu['tertiary_education_2019'] = tert_edu[\"BACHR_MEN\"] + tert_edu['BACHR_WOMEN']\n",
    "tert_edu = tert_edu[\"tertiary_education_2019\"].to_frame()\n",
    "tert_edu = tert_edu.reset_index() \n",
    "        \n",
    "# enhance government trust df\n",
    "tert_edu = tert_edu.assign(country=tert_edu['LOCATION'].map(c_map))\n",
    "tert_edu.rename(columns={\"country\": \"Country Name\"}, inplace=True)\n",
    "\n",
    "tert_edu = tert_edu[['Country Name', 'tertiary_education_2019']]\n",
    "tert_edu.head()"
   ]
  },
  {
   "cell_type": "code",
   "execution_count": 8,
   "id": "f4c75b65",
   "metadata": {},
   "outputs": [
    {
     "data": {
      "text/html": [
       "<div>\n",
       "<style scoped>\n",
       "    .dataframe tbody tr th:only-of-type {\n",
       "        vertical-align: middle;\n",
       "    }\n",
       "\n",
       "    .dataframe tbody tr th {\n",
       "        vertical-align: top;\n",
       "    }\n",
       "\n",
       "    .dataframe thead th {\n",
       "        text-align: right;\n",
       "    }\n",
       "</style>\n",
       "<table border=\"1\" class=\"dataframe\">\n",
       "  <thead>\n",
       "    <tr style=\"text-align: right;\">\n",
       "      <th></th>\n",
       "      <th>Country Name</th>\n",
       "      <th>Deaths/1M population</th>\n",
       "    </tr>\n",
       "  </thead>\n",
       "  <tbody>\n",
       "    <tr>\n",
       "      <th>0</th>\n",
       "      <td>Afghanistan</td>\n",
       "      <td>182</td>\n",
       "    </tr>\n",
       "    <tr>\n",
       "      <th>1</th>\n",
       "      <td>Albania</td>\n",
       "      <td>1034</td>\n",
       "    </tr>\n",
       "    <tr>\n",
       "      <th>2</th>\n",
       "      <td>Algeria</td>\n",
       "      <td>133</td>\n",
       "    </tr>\n",
       "    <tr>\n",
       "      <th>3</th>\n",
       "      <td>Andorra</td>\n",
       "      <td>1679</td>\n",
       "    </tr>\n",
       "    <tr>\n",
       "      <th>4</th>\n",
       "      <td>Angola</td>\n",
       "      <td>50</td>\n",
       "    </tr>\n",
       "  </tbody>\n",
       "</table>\n",
       "</div>"
      ],
      "text/plain": [
       "  Country Name  Deaths/1M population\n",
       "0  Afghanistan                   182\n",
       "1      Albania                  1034\n",
       "2      Algeria                   133\n",
       "3      Andorra                  1679\n",
       "4       Angola                    50"
      ]
     },
     "execution_count": 8,
     "metadata": {},
     "output_type": "execute_result"
    }
   ],
   "source": [
    "cov_data = pd.read_csv('./worldwide_covid_data.csv')\n",
    "cov_deaths = cov_data.rename(columns={'Country':'location'})[['location','Deaths/1M population']]\n",
    "cov_deaths.rename(columns={\"location\": \"Country Name\"}, inplace=True)\n",
    "\n",
    "cov_deaths.head()"
   ]
  },
  {
   "cell_type": "code",
   "execution_count": 9,
   "id": "973ad047",
   "metadata": {},
   "outputs": [
    {
     "data": {
      "text/html": [
       "<div>\n",
       "<style scoped>\n",
       "    .dataframe tbody tr th:only-of-type {\n",
       "        vertical-align: middle;\n",
       "    }\n",
       "\n",
       "    .dataframe tbody tr th {\n",
       "        vertical-align: top;\n",
       "    }\n",
       "\n",
       "    .dataframe thead th {\n",
       "        text-align: right;\n",
       "    }\n",
       "</style>\n",
       "<table border=\"1\" class=\"dataframe\">\n",
       "  <thead>\n",
       "    <tr style=\"text-align: right;\">\n",
       "      <th></th>\n",
       "      <th>Country Name</th>\n",
       "      <th>Self-reported_health_2019</th>\n",
       "    </tr>\n",
       "  </thead>\n",
       "  <tbody>\n",
       "    <tr>\n",
       "      <th>1636</th>\n",
       "      <td>Australia</td>\n",
       "      <td>85.0</td>\n",
       "    </tr>\n",
       "    <tr>\n",
       "      <th>1637</th>\n",
       "      <td>Austria</td>\n",
       "      <td>70.0</td>\n",
       "    </tr>\n",
       "    <tr>\n",
       "      <th>1638</th>\n",
       "      <td>Belgium</td>\n",
       "      <td>74.0</td>\n",
       "    </tr>\n",
       "    <tr>\n",
       "      <th>1639</th>\n",
       "      <td>Canada</td>\n",
       "      <td>88.0</td>\n",
       "    </tr>\n",
       "    <tr>\n",
       "      <th>1640</th>\n",
       "      <td>Czech Republic</td>\n",
       "      <td>60.0</td>\n",
       "    </tr>\n",
       "  </tbody>\n",
       "</table>\n",
       "</div>"
      ],
      "text/plain": [
       "        Country Name  Self-reported_health_2019\n",
       "1636       Australia                       85.0\n",
       "1637         Austria                       70.0\n",
       "1638         Belgium                       74.0\n",
       "1639          Canada                       88.0\n",
       "1640  Czech Republic                       60.0"
      ]
     },
     "execution_count": 9,
     "metadata": {},
     "output_type": "execute_result"
    }
   ],
   "source": [
    "betterlife = pd.read_csv('./betterlifeindex_2019.csv')\n",
    "\n",
    "health = betterlife \n",
    "health.rename(columns={\"Country\": \"Country Name\"}, inplace=True)\n",
    "health = health[[\"LOCATION\", \"Country Name\",\"Indicator\", \"Value\"]].loc[(health[\"Inequality\"]==\"Total\")]\n",
    "health = health.loc[(health[\"Indicator\"]==\"Self-reported health\")][[\"Country Name\", \"Value\"]]\n",
    "health.rename(columns={\"Value\": \"Self-reported_health_2019\"}, inplace=True)\n",
    "health.head()"
   ]
  },
  {
   "cell_type": "code",
   "execution_count": 10,
   "id": "898eaf55",
   "metadata": {},
   "outputs": [
    {
     "data": {
      "text/html": [
       "<div>\n",
       "<style scoped>\n",
       "    .dataframe tbody tr th:only-of-type {\n",
       "        vertical-align: middle;\n",
       "    }\n",
       "\n",
       "    .dataframe tbody tr th {\n",
       "        vertical-align: top;\n",
       "    }\n",
       "\n",
       "    .dataframe thead th {\n",
       "        text-align: right;\n",
       "    }\n",
       "</style>\n",
       "<table border=\"1\" class=\"dataframe\">\n",
       "  <thead>\n",
       "    <tr style=\"text-align: right;\">\n",
       "      <th></th>\n",
       "      <th>Life_expectancy_2019</th>\n",
       "      <th>Country Name</th>\n",
       "    </tr>\n",
       "  </thead>\n",
       "  <tbody>\n",
       "    <tr>\n",
       "      <th>1519</th>\n",
       "      <td>82.5</td>\n",
       "      <td>Australia</td>\n",
       "    </tr>\n",
       "    <tr>\n",
       "      <th>1520</th>\n",
       "      <td>81.7</td>\n",
       "      <td>Austria</td>\n",
       "    </tr>\n",
       "    <tr>\n",
       "      <th>1521</th>\n",
       "      <td>81.5</td>\n",
       "      <td>Belgium</td>\n",
       "    </tr>\n",
       "    <tr>\n",
       "      <th>1522</th>\n",
       "      <td>81.9</td>\n",
       "      <td>Canada</td>\n",
       "    </tr>\n",
       "    <tr>\n",
       "      <th>1523</th>\n",
       "      <td>79.1</td>\n",
       "      <td>Czech Republic</td>\n",
       "    </tr>\n",
       "  </tbody>\n",
       "</table>\n",
       "</div>"
      ],
      "text/plain": [
       "      Life_expectancy_2019    Country Name\n",
       "1519                  82.5       Australia\n",
       "1520                  81.7         Austria\n",
       "1521                  81.5         Belgium\n",
       "1522                  81.9          Canada\n",
       "1523                  79.1  Czech Republic"
      ]
     },
     "execution_count": 10,
     "metadata": {},
     "output_type": "execute_result"
    }
   ],
   "source": [
    "life_exp = betterlife.loc[(betterlife[\"Indicator\"]==\"Life expectancy\")][[\"Country Name\", \"LOCATION\", \"Value\"]]\n",
    "life_exp.rename(columns={\"Value\": \"Life_expectancy_2019\"}, inplace=True)\n",
    "#life_exp = life_exp.set_index('Country Name')\n",
    "life_exp = life_exp[['Life_expectancy_2019', 'Country Name']]\n",
    "life_exp.head()"
   ]
  },
  {
   "cell_type": "code",
   "execution_count": 11,
   "id": "026c39cc",
   "metadata": {
    "scrolled": true
   },
   "outputs": [
    {
     "data": {
      "text/html": [
       "<div>\n",
       "<style scoped>\n",
       "    .dataframe tbody tr th:only-of-type {\n",
       "        vertical-align: middle;\n",
       "    }\n",
       "\n",
       "    .dataframe tbody tr th {\n",
       "        vertical-align: top;\n",
       "    }\n",
       "\n",
       "    .dataframe thead th {\n",
       "        text-align: right;\n",
       "    }\n",
       "</style>\n",
       "<table border=\"1\" class=\"dataframe\">\n",
       "  <thead>\n",
       "    <tr style=\"text-align: right;\">\n",
       "      <th></th>\n",
       "      <th>Country Name</th>\n",
       "      <th>Employees_working_hours_2019</th>\n",
       "    </tr>\n",
       "  </thead>\n",
       "  <tbody>\n",
       "    <tr>\n",
       "      <th>2090</th>\n",
       "      <td>Australia</td>\n",
       "      <td>13.04</td>\n",
       "    </tr>\n",
       "    <tr>\n",
       "      <th>2091</th>\n",
       "      <td>Austria</td>\n",
       "      <td>6.66</td>\n",
       "    </tr>\n",
       "    <tr>\n",
       "      <th>2092</th>\n",
       "      <td>Belgium</td>\n",
       "      <td>4.75</td>\n",
       "    </tr>\n",
       "    <tr>\n",
       "      <th>2093</th>\n",
       "      <td>Canada</td>\n",
       "      <td>3.69</td>\n",
       "    </tr>\n",
       "    <tr>\n",
       "      <th>2094</th>\n",
       "      <td>Czech Republic</td>\n",
       "      <td>5.65</td>\n",
       "    </tr>\n",
       "  </tbody>\n",
       "</table>\n",
       "</div>"
      ],
      "text/plain": [
       "        Country Name  Employees_working_hours_2019\n",
       "2090       Australia                         13.04\n",
       "2091         Austria                          6.66\n",
       "2092         Belgium                          4.75\n",
       "2093          Canada                          3.69\n",
       "2094  Czech Republic                          5.65"
      ]
     },
     "execution_count": 11,
     "metadata": {},
     "output_type": "execute_result"
    }
   ],
   "source": [
    "work = betterlife.loc[(betterlife[\"Indicator\"]==\"Employees working very long hours\")][[\"Country Name\", \"LOCATION\", \"Value\"]]\n",
    "work.rename(columns={\"Value\": \"Employees_working_hours_2019\"}, inplace=True)\n",
    "work = work[['Country Name','Employees_working_hours_2019']]\n",
    "work.head()"
   ]
  },
  {
   "cell_type": "code",
   "execution_count": 12,
   "id": "7cb9c29a",
   "metadata": {},
   "outputs": [
    {
     "data": {
      "text/html": [
       "<div>\n",
       "<style scoped>\n",
       "    .dataframe tbody tr th:only-of-type {\n",
       "        vertical-align: middle;\n",
       "    }\n",
       "\n",
       "    .dataframe tbody tr th {\n",
       "        vertical-align: top;\n",
       "    }\n",
       "\n",
       "    .dataframe thead th {\n",
       "        text-align: right;\n",
       "    }\n",
       "</style>\n",
       "<table border=\"1\" class=\"dataframe\">\n",
       "  <thead>\n",
       "    <tr style=\"text-align: right;\">\n",
       "      <th></th>\n",
       "      <th>Country Name</th>\n",
       "      <th>unemployment_2020</th>\n",
       "    </tr>\n",
       "  </thead>\n",
       "  <tbody>\n",
       "    <tr>\n",
       "      <th>1</th>\n",
       "      <td>Africa Eastern and Southern</td>\n",
       "      <td>6.814177</td>\n",
       "    </tr>\n",
       "    <tr>\n",
       "      <th>2</th>\n",
       "      <td>Afghanistan</td>\n",
       "      <td>11.730000</td>\n",
       "    </tr>\n",
       "    <tr>\n",
       "      <th>3</th>\n",
       "      <td>Africa Western and Central</td>\n",
       "      <td>6.300105</td>\n",
       "    </tr>\n",
       "    <tr>\n",
       "      <th>4</th>\n",
       "      <td>Angola</td>\n",
       "      <td>7.700000</td>\n",
       "    </tr>\n",
       "    <tr>\n",
       "      <th>5</th>\n",
       "      <td>Albania</td>\n",
       "      <td>11.700000</td>\n",
       "    </tr>\n",
       "  </tbody>\n",
       "</table>\n",
       "</div>"
      ],
      "text/plain": [
       "                  Country Name  unemployment_2020\n",
       "1  Africa Eastern and Southern           6.814177\n",
       "2                  Afghanistan          11.730000\n",
       "3   Africa Western and Central           6.300105\n",
       "4                       Angola           7.700000\n",
       "5                      Albania          11.700000"
      ]
     },
     "execution_count": 12,
     "metadata": {},
     "output_type": "execute_result"
    }
   ],
   "source": [
    "unemp = pd.read_csv('unemployment_rate.csv') \n",
    "unemp = unemp[[\"Country Name\",\"2020\"]] # select and reduce\n",
    "unemp.rename(columns={\"2020\": \"unemployment_2020\"}, inplace=True)\n",
    "unemp = unemp.loc[(unemp[\"unemployment_2020\"]==unemp[\"unemployment_2020\"])]\n",
    "unemp.head()"
   ]
  },
  {
   "cell_type": "markdown",
   "id": "a6a1ef95",
   "metadata": {},
   "source": [
    "## 2. analyse vaccination rate with each of the other factors\n",
    "\n",
    "    In the second step we analyse the correlation and the scatter plot of each factor with the vaccination rate"
   ]
  },
  {
   "cell_type": "code",
   "execution_count": 14,
   "id": "06fb8893",
   "metadata": {},
   "outputs": [],
   "source": [
    "import matplotlib.pyplot as plt\n",
    "import seaborn as sns"
   ]
  },
  {
   "cell_type": "code",
   "execution_count": 26,
   "id": "1febb0da",
   "metadata": {},
   "outputs": [
    {
     "data": {
      "image/png": "[encoded data removed]",
      "text/plain": [
       "<Figure size 432x288 with 1 Axes>"
      ]
     },
     "metadata": {
      "needs_background": "light"
     },
     "output_type": "display_data"
    },
    {
     "name": "stdout",
     "output_type": "stream",
     "text": [
      "r: 0.04876726212710701\n"
     ]
    }
   ],
   "source": [
    "#### TRUST IN GOVERNMENT ######\n",
    "trust_x_vax = pd.merge(trust_in_gov, vax_rates, on=[\"Country Name\"])\n",
    "trust_x_vax_r = trust_x_vax.corr().iloc[0,1]\n",
    "\n",
    "plt.scatter(trust_x_vax['trust_in_government_2019'], trust_x_vax['people_fully_vaccinated_per_hundred'])\n",
    "plt.xlabel('Trust in Government (2019)')\n",
    "plt.ylabel('People Fully Vaccinated (per hundred)')\n",
    "plt.show()\n",
    "print(\"r: {}\".format(trust_x_vax_r))"
   ]
  },
  {
   "cell_type": "code",
   "execution_count": 27,
   "id": "2b8bd491",
   "metadata": {},
   "outputs": [
    {
     "data": {
      "image/png": "[encoded data removed]",
      "text/plain": [
       "<Figure size 432x288 with 1 Axes>"
      ]
     },
     "metadata": {
      "needs_background": "light"
     },
     "output_type": "display_data"
    },
    {
     "name": "stdout",
     "output_type": "stream",
     "text": [
      "r: 0.7006793183652771\n"
     ]
    }
   ],
   "source": [
    "#### GDP ######\n",
    "gdp_x_vax = pd.merge(gdp, vax_rates, on=[\"Country Name\"])\n",
    "gdp_x_vax_r = gdp_x_vax.corr().iloc[0,1]\n",
    "\n",
    "plt.scatter(gdp_x_vax['gdp_per_capita_2020'], gdp_x_vax['people_fully_vaccinated_per_hundred'])\n",
    "plt.xlabel('gdp_per_capita_2020')\n",
    "plt.ylabel('people_fully_vaccinated_per_hundred')\n",
    "plt.show()\n",
    "print(\"r: {}\".format(gdp_x_vax_r))"
   ]
  },
  {
   "cell_type": "code",
   "execution_count": 31,
   "id": "e521e15c",
   "metadata": {},
   "outputs": [
    {
     "data": {
      "image/png": "[encoded data removed]",
      "text/plain": [
       "<Figure size 432x288 with 1 Axes>"
      ]
     },
     "metadata": {
      "needs_background": "light"
     },
     "output_type": "display_data"
    },
    {
     "name": "stdout",
     "output_type": "stream",
     "text": [
      "r: 0.24994288969897402\n"
     ]
    }
   ],
   "source": [
    "#### secondary education ######\n",
    "edu2_x_vax = pd.merge(secondary_edu, vax_rates, on=[\"Country Name\"])\n",
    "edu2_x_vax_r = edu2_x_vax.corr().iloc[0,1]\n",
    "\n",
    "plt.scatter(edu2_x_vax['secondary_education_2019'], edu2_x_vax['people_fully_vaccinated_per_hundred'])\n",
    "plt.xlabel('secondary_education_2019')\n",
    "plt.ylabel('people_fully_vaccinated_per_hundred')\n",
    "plt.show()\n",
    "print(\"r: {}\".format(edu2_x_vax_r))"
   ]
  },
  {
   "cell_type": "code",
   "execution_count": 33,
   "id": "15508693",
   "metadata": {},
   "outputs": [
    {
     "data": {
      "image/png": "[encoded data removed]",
      "text/plain": [
       "<Figure size 432x288 with 1 Axes>"
      ]
     },
     "metadata": {
      "needs_background": "light"
     },
     "output_type": "display_data"
    },
    {
     "name": "stdout",
     "output_type": "stream",
     "text": [
      "r: 0.24994288969897402\n"
     ]
    }
   ],
   "source": [
    "#### tertiary education ######\n",
    "edu3_x_vax = pd.merge(tert_edu, vax_rates, on=[\"Country Name\"])\n",
    "edu3_x_vax_r = edu3_x_vax.corr().iloc[0,1]\n",
    "\n",
    "plt.scatter(edu3_x_vax['tertiary_education_2019'], edu3_x_vax['people_fully_vaccinated_per_hundred'])\n",
    "plt.xlabel('tertiary_education_2019')\n",
    "plt.ylabel('people_fully_vaccinated_per_hundred')\n",
    "plt.show()\n",
    "print(\"r: {}\".format(edu2_x_vax_r))"
   ]
  },
  {
   "cell_type": "code",
   "execution_count": null,
   "id": "364947d2",
   "metadata": {},
   "outputs": [],
   "source": [
    "#### COVID deaths ######\n",
    "\n",
    "\n",
    "data = pd.merge(cov_deaths, vax_rates, on=[\"Country Name\"])\n",
    "data"
   ]
  },
  {
   "cell_type": "code",
   "execution_count": null,
   "id": "e6e6595a",
   "metadata": {},
   "outputs": [],
   "source": [
    "corrmat = data.corr()\n",
    "top_corr_features = corrmat.index\n",
    "plt.figure(figsize=(20,20))\n",
    "g=sns.heatmap(data[['Deaths/1M population', 'people_fully_vaccinated_per_hundred']].corr(),annot=True,cmap=\"RdYlGn\")"
   ]
  },
  {
   "cell_type": "code",
   "execution_count": null,
   "id": "63f2eb10",
   "metadata": {},
   "outputs": [],
   "source": [
    "plt.scatter(data['Deaths/1M population'], data['people_fully_vaccinated_per_hundred'])\n",
    "plt.xlabel('Deaths/1M population')\n",
    "plt.ylabel('people_fully_vaccinated_per_hundred')\n",
    "plt.show()"
   ]
  },
  {
   "cell_type": "code",
   "execution_count": null,
   "id": "9f137d29",
   "metadata": {},
   "outputs": [],
   "source": [
    "#### Self reported health ######\n",
    "\n",
    "\n",
    "data = pd.merge(health, vax_rates, on=[\"Country Name\"])\n",
    "data"
   ]
  },
  {
   "cell_type": "code",
   "execution_count": null,
   "id": "64d684e8",
   "metadata": {},
   "outputs": [],
   "source": [
    "corrmat = data.corr()\n",
    "top_corr_features = corrmat.index\n",
    "plt.figure(figsize=(20,20))\n",
    "g=sns.heatmap(data[['Self-reported_health_2019', 'people_fully_vaccinated_per_hundred']].corr(),annot=True,cmap=\"RdYlGn\")"
   ]
  },
  {
   "cell_type": "code",
   "execution_count": null,
   "id": "2faa2b57",
   "metadata": {},
   "outputs": [],
   "source": [
    "plt.scatter(data['Self-reported_health_2019'], data['people_fully_vaccinated_per_hundred'])\n",
    "plt.xlabel('Self-reported_health_2019')\n",
    "plt.ylabel('people_fully_vaccinated_per_hundred')\n",
    "plt.show()"
   ]
  },
  {
   "cell_type": "code",
   "execution_count": null,
   "id": "17f931c8",
   "metadata": {},
   "outputs": [],
   "source": [
    "#### life expectancy ######\n",
    "\n",
    "\n",
    "data = pd.merge(life_exp, vax_rates, on=[\"Country Name\"])\n",
    "data"
   ]
  },
  {
   "cell_type": "code",
   "execution_count": null,
   "id": "31e55a37",
   "metadata": {},
   "outputs": [],
   "source": [
    "corrmat = data.corr()\n",
    "top_corr_features = corrmat.index\n",
    "plt.figure(figsize=(20,20))\n",
    "g=sns.heatmap(data[['Life_expectancy_2019', 'people_fully_vaccinated_per_hundred']].corr(),annot=True,cmap=\"RdYlGn\")"
   ]
  },
  {
   "cell_type": "code",
   "execution_count": null,
   "id": "4d58aa7a",
   "metadata": {},
   "outputs": [],
   "source": [
    "plt.scatter(data['Life_expectancy_2019'], data['people_fully_vaccinated_per_hundred'])\n",
    "plt.xlabel('Life_expectancy_2019')\n",
    "plt.ylabel('people_fully_vaccinated_per_hundred')\n",
    "plt.show()"
   ]
  },
  {
   "cell_type": "code",
   "execution_count": null,
   "id": "68151042",
   "metadata": {},
   "outputs": [],
   "source": [
    "#### very long working hours ######\n",
    "\n",
    "data = pd.merge(work, vax_rates, on=[\"Country Name\"])\n",
    "data"
   ]
  },
  {
   "cell_type": "code",
   "execution_count": null,
   "id": "f75c99ca",
   "metadata": {},
   "outputs": [],
   "source": [
    "corrmat = data.corr()\n",
    "top_corr_features = corrmat.index\n",
    "plt.figure(figsize=(20,20))\n",
    "g=sns.heatmap(data[['Employees_working_hours_2019', 'people_fully_vaccinated_per_hundred']].corr(),annot=True,cmap=\"RdYlGn\")"
   ]
  },
  {
   "cell_type": "code",
   "execution_count": null,
   "id": "85fa4a57",
   "metadata": {},
   "outputs": [],
   "source": [
    "plt.scatter(data['Employees_working_hours_2019'], data['people_fully_vaccinated_per_hundred'])\n",
    "plt.xlabel('Employees_working_hours_2019')\n",
    "plt.ylabel('people_fully_vaccinated_per_hundred')\n",
    "plt.show()"
   ]
  },
  {
   "cell_type": "code",
   "execution_count": null,
   "id": "34f131aa",
   "metadata": {},
   "outputs": [],
   "source": [
    "#### unemployment ######\n",
    "\n",
    "data = pd.merge(unemp, vax_rates, on=[\"Country Name\"])\n",
    "data"
   ]
  },
  {
   "cell_type": "code",
   "execution_count": null,
   "id": "6de103a8",
   "metadata": {},
   "outputs": [],
   "source": [
    "corrmat = data.corr()\n",
    "top_corr_features = corrmat.index\n",
    "plt.figure(figsize=(20,20))\n",
    "g=sns.heatmap(data[['unemployment_2020', 'people_fully_vaccinated_per_hundred']].corr(),annot=True,cmap=\"RdYlGn\")"
   ]
  },
  {
   "cell_type": "code",
   "execution_count": null,
   "id": "36d80fb6",
   "metadata": {},
   "outputs": [],
   "source": [
    "plt.scatter(data['unemployment_2020'], data['people_fully_vaccinated_per_hundred'])\n",
    "plt.xlabel('unemployment_2020')\n",
    "plt.ylabel('people_fully_vaccinated_per_hundred')\n",
    "plt.show()"
   ]
  },
  {
   "cell_type": "code",
   "execution_count": null,
   "id": "225aee1b",
   "metadata": {},
   "outputs": [],
   "source": [
    "### Plot all data ######"
   ]
  },
  {
   "cell_type": "code",
   "execution_count": null,
   "id": "e22554ac",
   "metadata": {},
   "outputs": [],
   "source": [
    "data = pd.merge(vax_rates, trust_in_gov, on=[\"Country Name\"])\n",
    "data = pd.merge(data, gdp, on=[\"Country Name\"])\n",
    "data = pd.merge(data, secondary_edu, on=[\"Country Name\"])\n",
    "data = pd.merge(data, tert_edu, on=[\"Country Name\"])\n",
    "data = pd.merge(data, cov_deaths, on=[\"Country Name\"])\n",
    "data = pd.merge(data, health, on=[\"Country Name\"])\n",
    "data = pd.merge(data, life_exp, on=[\"Country Name\"])\n",
    "data = pd.merge(data, work, on=[\"Country Name\"])\n",
    "data = pd.merge(data, unemp, on=[\"Country Name\"])\n",
    "data"
   ]
  },
  {
   "cell_type": "code",
   "execution_count": null,
   "id": "162fd05d",
   "metadata": {},
   "outputs": [],
   "source": [
    "corrmat = data.corr()\n",
    "top_corr_features = corrmat.index\n",
    "plt.figure(figsize=(20,20))\n",
    "#plot heat map\n",
    "g=sns.heatmap(data[[\"Employees_working_hours_2019\", \"Life_expectancy_2019\", \"Self-reported_health_2019\",\"Deaths/1M population\", \"unemployment_2020\",\"secondary_education_2019\",\"trust_in_government_2019\", \"gdp_per_capita_2020\", \"people_fully_vaccinated_per_hundred\"]].corr(),annot=True,cmap=\"RdYlGn\")"
   ]
  },
  {
   "cell_type": "code",
   "execution_count": null,
   "id": "a2123ce8",
   "metadata": {},
   "outputs": [],
   "source": [
    "#https://seaborn.pydata.org/generated/seaborn.pairplot.html#seaborn.pairplot"
   ]
  },
  {
   "cell_type": "code",
   "execution_count": null,
   "id": "3f3d1adf",
   "metadata": {},
   "outputs": [],
   "source": [
    "sns.pairplot(data, kind=\"hist\")"
   ]
  },
  {
   "cell_type": "code",
   "execution_count": null,
   "id": "f98b797b",
   "metadata": {},
   "outputs": [],
   "source": []
  }
 ],
 "metadata": {
  "kernelspec": {
   "display_name": "Python 3 (ipykernel)",
   "language": "python",
   "name": "python3"
  },
  "language_info": {
   "codemirror_mode": {
    "name": "ipython",
    "version": 3
   },
   "file_extension": ".py",
   "mimetype": "text/x-python",
   "name": "python",
   "nbconvert_exporter": "python",
   "pygments_lexer": "ipython3",
   "version": "3.8.10"
  }
 },
 "nbformat": 4,
 "nbformat_minor": 5
}
